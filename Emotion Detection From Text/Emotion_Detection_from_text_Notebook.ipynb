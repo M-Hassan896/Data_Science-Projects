{
  "nbformat": 4,
  "nbformat_minor": 0,
  "metadata": {
    "colab": {
      "provenance": []
    },
    "kernelspec": {
      "name": "python3",
      "display_name": "Python 3"
    },
    "language_info": {
      "name": "python"
    }
  },
  "cells": [
    {
      "cell_type": "code",
      "execution_count": null,
      "metadata": {
        "id": "3PZqYe3dHyKL"
      },
      "outputs": [],
      "source": [
        "import pandas as pd\n",
        "import numpy as np\n",
        "from sklearn.model_selection import train_test_split\n",
        "from sklearn.preprocessing import LabelEncoder\n",
        "from tensorflow.keras.preprocessing.text import Tokenizer\n",
        "from tensorflow.keras.preprocessing.sequence import pad_sequences\n",
        "from tensorflow.keras.models import Sequential\n",
        "from tensorflow.keras.layers import LSTM, Dense, Embedding, SimpleRNN, GRU\n",
        "from tensorflow.keras.optimizers import Adam, RMSprop\n",
        "from tensorflow.keras.callbacks import EarlyStopping\n",
        "import matplotlib.pyplot as plt\n",
        "import seaborn as sns\n",
        "from sklearn.metrics import classification_report, confusion_matrix\n",
        "import re\n",
        "from nltk.corpus import stopwords\n",
        "from nltk.tokenize import word_tokenize\n",
        "import tensorflow as tf"
      ]
    },
    {
      "cell_type": "markdown",
      "source": [
        "**Dataset_Loading**"
      ],
      "metadata": {
        "id": "tUNyPLxhH3r-"
      }
    },
    {
      "cell_type": "code",
      "source": [
        "train_data = pd.read_csv('/content/trainEmotions.csv')\n",
        "test_data = pd.read_csv('/content/testEmotions.csv')\n"
      ],
      "metadata": {
        "id": "KN_rT2tlU2p0"
      },
      "execution_count": null,
      "outputs": []
    },
    {
      "cell_type": "code",
      "source": [
        "train_data"
      ],
      "metadata": {
        "colab": {
          "base_uri": "https://localhost:8080/",
          "height": 423
        },
        "id": "IHdhNR3VU25-",
        "outputId": "8ee8a0fa-b5af-4770-868c-3f0f02a1d14d"
      },
      "execution_count": null,
      "outputs": [
        {
          "output_type": "execute_result",
          "data": {
            "text/plain": [
              "         emotion                                            content\n",
              "0      happiness  victory for the bulldogs was celebrated by 3 w...\n",
              "1      happiness                     @saraLDS Thanks for that, Sara\n",
              "2      happiness  @Tony_Mandarich well welcome back from the dar...\n",
              "3      happiness            @sai_shediddy lol , you gotta share too\n",
              "4      happiness  first up, make up for lost time with jelly. Ja...\n",
              "...          ...                                                ...\n",
              "14499    neutral  Wish I lived in or atleast relatively close to...\n",
              "14500    neutral  @3Gguy and within a short time of the last clu...\n",
              "14501    neutral                        my phone still doesnt tweet\n",
              "14502    neutral  @blindcripple Good idea Brain, you can't not b...\n",
              "14503    neutral  @mrskutcher just checked library website and g...\n",
              "\n",
              "[14504 rows x 2 columns]"
            ],
            "text/html": [
              "\n",
              "  <div id=\"df-b25f2d5c-e7ea-4c00-936b-1a6bdc3f55b4\" class=\"colab-df-container\">\n",
              "    <div>\n",
              "<style scoped>\n",
              "    .dataframe tbody tr th:only-of-type {\n",
              "        vertical-align: middle;\n",
              "    }\n",
              "\n",
              "    .dataframe tbody tr th {\n",
              "        vertical-align: top;\n",
              "    }\n",
              "\n",
              "    .dataframe thead th {\n",
              "        text-align: right;\n",
              "    }\n",
              "</style>\n",
              "<table border=\"1\" class=\"dataframe\">\n",
              "  <thead>\n",
              "    <tr style=\"text-align: right;\">\n",
              "      <th></th>\n",
              "      <th>emotion</th>\n",
              "      <th>content</th>\n",
              "    </tr>\n",
              "  </thead>\n",
              "  <tbody>\n",
              "    <tr>\n",
              "      <th>0</th>\n",
              "      <td>happiness</td>\n",
              "      <td>victory for the bulldogs was celebrated by 3 w...</td>\n",
              "    </tr>\n",
              "    <tr>\n",
              "      <th>1</th>\n",
              "      <td>happiness</td>\n",
              "      <td>@saraLDS Thanks for that, Sara</td>\n",
              "    </tr>\n",
              "    <tr>\n",
              "      <th>2</th>\n",
              "      <td>happiness</td>\n",
              "      <td>@Tony_Mandarich well welcome back from the dar...</td>\n",
              "    </tr>\n",
              "    <tr>\n",
              "      <th>3</th>\n",
              "      <td>happiness</td>\n",
              "      <td>@sai_shediddy lol , you gotta share too</td>\n",
              "    </tr>\n",
              "    <tr>\n",
              "      <th>4</th>\n",
              "      <td>happiness</td>\n",
              "      <td>first up, make up for lost time with jelly. Ja...</td>\n",
              "    </tr>\n",
              "    <tr>\n",
              "      <th>...</th>\n",
              "      <td>...</td>\n",
              "      <td>...</td>\n",
              "    </tr>\n",
              "    <tr>\n",
              "      <th>14499</th>\n",
              "      <td>neutral</td>\n",
              "      <td>Wish I lived in or atleast relatively close to...</td>\n",
              "    </tr>\n",
              "    <tr>\n",
              "      <th>14500</th>\n",
              "      <td>neutral</td>\n",
              "      <td>@3Gguy and within a short time of the last clu...</td>\n",
              "    </tr>\n",
              "    <tr>\n",
              "      <th>14501</th>\n",
              "      <td>neutral</td>\n",
              "      <td>my phone still doesnt tweet</td>\n",
              "    </tr>\n",
              "    <tr>\n",
              "      <th>14502</th>\n",
              "      <td>neutral</td>\n",
              "      <td>@blindcripple Good idea Brain, you can't not b...</td>\n",
              "    </tr>\n",
              "    <tr>\n",
              "      <th>14503</th>\n",
              "      <td>neutral</td>\n",
              "      <td>@mrskutcher just checked library website and g...</td>\n",
              "    </tr>\n",
              "  </tbody>\n",
              "</table>\n",
              "<p>14504 rows × 2 columns</p>\n",
              "</div>\n",
              "    <div class=\"colab-df-buttons\">\n",
              "\n",
              "  <div class=\"colab-df-container\">\n",
              "    <button class=\"colab-df-convert\" onclick=\"convertToInteractive('df-b25f2d5c-e7ea-4c00-936b-1a6bdc3f55b4')\"\n",
              "            title=\"Convert this dataframe to an interactive table.\"\n",
              "            style=\"display:none;\">\n",
              "\n",
              "  <svg xmlns=\"http://www.w3.org/2000/svg\" height=\"24px\" viewBox=\"0 -960 960 960\">\n",
              "    <path d=\"M120-120v-720h720v720H120Zm60-500h600v-160H180v160Zm220 220h160v-160H400v160Zm0 220h160v-160H400v160ZM180-400h160v-160H180v160Zm440 0h160v-160H620v160ZM180-180h160v-160H180v160Zm440 0h160v-160H620v160Z\"/>\n",
              "  </svg>\n",
              "    </button>\n",
              "\n",
              "  <style>\n",
              "    .colab-df-container {\n",
              "      display:flex;\n",
              "      gap: 12px;\n",
              "    }\n",
              "\n",
              "    .colab-df-convert {\n",
              "      background-color: #E8F0FE;\n",
              "      border: none;\n",
              "      border-radius: 50%;\n",
              "      cursor: pointer;\n",
              "      display: none;\n",
              "      fill: #1967D2;\n",
              "      height: 32px;\n",
              "      padding: 0 0 0 0;\n",
              "      width: 32px;\n",
              "    }\n",
              "\n",
              "    .colab-df-convert:hover {\n",
              "      background-color: #E2EBFA;\n",
              "      box-shadow: 0px 1px 2px rgba(60, 64, 67, 0.3), 0px 1px 3px 1px rgba(60, 64, 67, 0.15);\n",
              "      fill: #174EA6;\n",
              "    }\n",
              "\n",
              "    .colab-df-buttons div {\n",
              "      margin-bottom: 4px;\n",
              "    }\n",
              "\n",
              "    [theme=dark] .colab-df-convert {\n",
              "      background-color: #3B4455;\n",
              "      fill: #D2E3FC;\n",
              "    }\n",
              "\n",
              "    [theme=dark] .colab-df-convert:hover {\n",
              "      background-color: #434B5C;\n",
              "      box-shadow: 0px 1px 3px 1px rgba(0, 0, 0, 0.15);\n",
              "      filter: drop-shadow(0px 1px 2px rgba(0, 0, 0, 0.3));\n",
              "      fill: #FFFFFF;\n",
              "    }\n",
              "  </style>\n",
              "\n",
              "    <script>\n",
              "      const buttonEl =\n",
              "        document.querySelector('#df-b25f2d5c-e7ea-4c00-936b-1a6bdc3f55b4 button.colab-df-convert');\n",
              "      buttonEl.style.display =\n",
              "        google.colab.kernel.accessAllowed ? 'block' : 'none';\n",
              "\n",
              "      async function convertToInteractive(key) {\n",
              "        const element = document.querySelector('#df-b25f2d5c-e7ea-4c00-936b-1a6bdc3f55b4');\n",
              "        const dataTable =\n",
              "          await google.colab.kernel.invokeFunction('convertToInteractive',\n",
              "                                                    [key], {});\n",
              "        if (!dataTable) return;\n",
              "\n",
              "        const docLinkHtml = 'Like what you see? Visit the ' +\n",
              "          '<a target=\"_blank\" href=https://colab.research.google.com/notebooks/data_table.ipynb>data table notebook</a>'\n",
              "          + ' to learn more about interactive tables.';\n",
              "        element.innerHTML = '';\n",
              "        dataTable['output_type'] = 'display_data';\n",
              "        await google.colab.output.renderOutput(dataTable, element);\n",
              "        const docLink = document.createElement('div');\n",
              "        docLink.innerHTML = docLinkHtml;\n",
              "        element.appendChild(docLink);\n",
              "      }\n",
              "    </script>\n",
              "  </div>\n",
              "\n",
              "\n",
              "<div id=\"df-3fe2498c-849c-4318-abc6-c15b61aa79f8\">\n",
              "  <button class=\"colab-df-quickchart\" onclick=\"quickchart('df-3fe2498c-849c-4318-abc6-c15b61aa79f8')\"\n",
              "            title=\"Suggest charts\"\n",
              "            style=\"display:none;\">\n",
              "\n",
              "<svg xmlns=\"http://www.w3.org/2000/svg\" height=\"24px\"viewBox=\"0 0 24 24\"\n",
              "     width=\"24px\">\n",
              "    <g>\n",
              "        <path d=\"M19 3H5c-1.1 0-2 .9-2 2v14c0 1.1.9 2 2 2h14c1.1 0 2-.9 2-2V5c0-1.1-.9-2-2-2zM9 17H7v-7h2v7zm4 0h-2V7h2v10zm4 0h-2v-4h2v4z\"/>\n",
              "    </g>\n",
              "</svg>\n",
              "  </button>\n",
              "\n",
              "<style>\n",
              "  .colab-df-quickchart {\n",
              "      --bg-color: #E8F0FE;\n",
              "      --fill-color: #1967D2;\n",
              "      --hover-bg-color: #E2EBFA;\n",
              "      --hover-fill-color: #174EA6;\n",
              "      --disabled-fill-color: #AAA;\n",
              "      --disabled-bg-color: #DDD;\n",
              "  }\n",
              "\n",
              "  [theme=dark] .colab-df-quickchart {\n",
              "      --bg-color: #3B4455;\n",
              "      --fill-color: #D2E3FC;\n",
              "      --hover-bg-color: #434B5C;\n",
              "      --hover-fill-color: #FFFFFF;\n",
              "      --disabled-bg-color: #3B4455;\n",
              "      --disabled-fill-color: #666;\n",
              "  }\n",
              "\n",
              "  .colab-df-quickchart {\n",
              "    background-color: var(--bg-color);\n",
              "    border: none;\n",
              "    border-radius: 50%;\n",
              "    cursor: pointer;\n",
              "    display: none;\n",
              "    fill: var(--fill-color);\n",
              "    height: 32px;\n",
              "    padding: 0;\n",
              "    width: 32px;\n",
              "  }\n",
              "\n",
              "  .colab-df-quickchart:hover {\n",
              "    background-color: var(--hover-bg-color);\n",
              "    box-shadow: 0 1px 2px rgba(60, 64, 67, 0.3), 0 1px 3px 1px rgba(60, 64, 67, 0.15);\n",
              "    fill: var(--button-hover-fill-color);\n",
              "  }\n",
              "\n",
              "  .colab-df-quickchart-complete:disabled,\n",
              "  .colab-df-quickchart-complete:disabled:hover {\n",
              "    background-color: var(--disabled-bg-color);\n",
              "    fill: var(--disabled-fill-color);\n",
              "    box-shadow: none;\n",
              "  }\n",
              "\n",
              "  .colab-df-spinner {\n",
              "    border: 2px solid var(--fill-color);\n",
              "    border-color: transparent;\n",
              "    border-bottom-color: var(--fill-color);\n",
              "    animation:\n",
              "      spin 1s steps(1) infinite;\n",
              "  }\n",
              "\n",
              "  @keyframes spin {\n",
              "    0% {\n",
              "      border-color: transparent;\n",
              "      border-bottom-color: var(--fill-color);\n",
              "      border-left-color: var(--fill-color);\n",
              "    }\n",
              "    20% {\n",
              "      border-color: transparent;\n",
              "      border-left-color: var(--fill-color);\n",
              "      border-top-color: var(--fill-color);\n",
              "    }\n",
              "    30% {\n",
              "      border-color: transparent;\n",
              "      border-left-color: var(--fill-color);\n",
              "      border-top-color: var(--fill-color);\n",
              "      border-right-color: var(--fill-color);\n",
              "    }\n",
              "    40% {\n",
              "      border-color: transparent;\n",
              "      border-right-color: var(--fill-color);\n",
              "      border-top-color: var(--fill-color);\n",
              "    }\n",
              "    60% {\n",
              "      border-color: transparent;\n",
              "      border-right-color: var(--fill-color);\n",
              "    }\n",
              "    80% {\n",
              "      border-color: transparent;\n",
              "      border-right-color: var(--fill-color);\n",
              "      border-bottom-color: var(--fill-color);\n",
              "    }\n",
              "    90% {\n",
              "      border-color: transparent;\n",
              "      border-bottom-color: var(--fill-color);\n",
              "    }\n",
              "  }\n",
              "</style>\n",
              "\n",
              "  <script>\n",
              "    async function quickchart(key) {\n",
              "      const quickchartButtonEl =\n",
              "        document.querySelector('#' + key + ' button');\n",
              "      quickchartButtonEl.disabled = true;  // To prevent multiple clicks.\n",
              "      quickchartButtonEl.classList.add('colab-df-spinner');\n",
              "      try {\n",
              "        const charts = await google.colab.kernel.invokeFunction(\n",
              "            'suggestCharts', [key], {});\n",
              "      } catch (error) {\n",
              "        console.error('Error during call to suggestCharts:', error);\n",
              "      }\n",
              "      quickchartButtonEl.classList.remove('colab-df-spinner');\n",
              "      quickchartButtonEl.classList.add('colab-df-quickchart-complete');\n",
              "    }\n",
              "    (() => {\n",
              "      let quickchartButtonEl =\n",
              "        document.querySelector('#df-3fe2498c-849c-4318-abc6-c15b61aa79f8 button');\n",
              "      quickchartButtonEl.style.display =\n",
              "        google.colab.kernel.accessAllowed ? 'block' : 'none';\n",
              "    })();\n",
              "  </script>\n",
              "</div>\n",
              "\n",
              "  <div id=\"id_874c2057-239d-425d-a0b7-3f6084218413\">\n",
              "    <style>\n",
              "      .colab-df-generate {\n",
              "        background-color: #E8F0FE;\n",
              "        border: none;\n",
              "        border-radius: 50%;\n",
              "        cursor: pointer;\n",
              "        display: none;\n",
              "        fill: #1967D2;\n",
              "        height: 32px;\n",
              "        padding: 0 0 0 0;\n",
              "        width: 32px;\n",
              "      }\n",
              "\n",
              "      .colab-df-generate:hover {\n",
              "        background-color: #E2EBFA;\n",
              "        box-shadow: 0px 1px 2px rgba(60, 64, 67, 0.3), 0px 1px 3px 1px rgba(60, 64, 67, 0.15);\n",
              "        fill: #174EA6;\n",
              "      }\n",
              "\n",
              "      [theme=dark] .colab-df-generate {\n",
              "        background-color: #3B4455;\n",
              "        fill: #D2E3FC;\n",
              "      }\n",
              "\n",
              "      [theme=dark] .colab-df-generate:hover {\n",
              "        background-color: #434B5C;\n",
              "        box-shadow: 0px 1px 3px 1px rgba(0, 0, 0, 0.15);\n",
              "        filter: drop-shadow(0px 1px 2px rgba(0, 0, 0, 0.3));\n",
              "        fill: #FFFFFF;\n",
              "      }\n",
              "    </style>\n",
              "    <button class=\"colab-df-generate\" onclick=\"generateWithVariable('train_data')\"\n",
              "            title=\"Generate code using this dataframe.\"\n",
              "            style=\"display:none;\">\n",
              "\n",
              "  <svg xmlns=\"http://www.w3.org/2000/svg\" height=\"24px\"viewBox=\"0 0 24 24\"\n",
              "       width=\"24px\">\n",
              "    <path d=\"M7,19H8.4L18.45,9,17,7.55,7,17.6ZM5,21V16.75L18.45,3.32a2,2,0,0,1,2.83,0l1.4,1.43a1.91,1.91,0,0,1,.58,1.4,1.91,1.91,0,0,1-.58,1.4L9.25,21ZM18.45,9,17,7.55Zm-12,3A5.31,5.31,0,0,0,4.9,8.1,5.31,5.31,0,0,0,1,6.5,5.31,5.31,0,0,0,4.9,4.9,5.31,5.31,0,0,0,6.5,1,5.31,5.31,0,0,0,8.1,4.9,5.31,5.31,0,0,0,12,6.5,5.46,5.46,0,0,0,6.5,12Z\"/>\n",
              "  </svg>\n",
              "    </button>\n",
              "    <script>\n",
              "      (() => {\n",
              "      const buttonEl =\n",
              "        document.querySelector('#id_874c2057-239d-425d-a0b7-3f6084218413 button.colab-df-generate');\n",
              "      buttonEl.style.display =\n",
              "        google.colab.kernel.accessAllowed ? 'block' : 'none';\n",
              "\n",
              "      buttonEl.onclick = () => {\n",
              "        google.colab.notebook.generateWithVariable('train_data');\n",
              "      }\n",
              "      })();\n",
              "    </script>\n",
              "  </div>\n",
              "\n",
              "    </div>\n",
              "  </div>\n"
            ],
            "application/vnd.google.colaboratory.intrinsic+json": {
              "type": "dataframe",
              "variable_name": "train_data",
              "summary": "{\n  \"name\": \"train_data\",\n  \"rows\": 14504,\n  \"fields\": [\n    {\n      \"column\": \"emotion\",\n      \"properties\": {\n        \"dtype\": \"category\",\n        \"num_unique_values\": 3,\n        \"samples\": [\n          \"happiness\",\n          \"sadness\",\n          \"neutral\"\n        ],\n        \"semantic_type\": \"\",\n        \"description\": \"\"\n      }\n    },\n    {\n      \"column\": \"content\",\n      \"properties\": {\n        \"dtype\": \"string\",\n        \"num_unique_values\": 14443,\n        \"samples\": [\n          \"@JoelMadden I applaud you for accepting gay marriage, I have rels that are born again that hate me for it.\",\n          \"Good morning Tweepsland! Makin' it a great Monday! Huge shout out to all my followers .. muah, muah! I appreciate you all\",\n          \"@AClockworkToad I will take lots of pics! it is really pretty there, lots of palm trees.\"\n        ],\n        \"semantic_type\": \"\",\n        \"description\": \"\"\n      }\n    }\n  ]\n}"
            }
          },
          "metadata": {},
          "execution_count": 3
        }
      ]
    },
    {
      "cell_type": "code",
      "source": [
        "train_data"
      ],
      "metadata": {
        "colab": {
          "base_uri": "https://localhost:8080/",
          "height": 423
        },
        "id": "GGYs3vgXU3HF",
        "outputId": "67e3a2ff-b5b6-441b-d5b4-69cd0635887e"
      },
      "execution_count": null,
      "outputs": [
        {
          "output_type": "execute_result",
          "data": {
            "text/plain": [
              "         emotion                                            content\n",
              "0      happiness  victory for the bulldogs was celebrated by 3 w...\n",
              "1      happiness                     @saraLDS Thanks for that, Sara\n",
              "2      happiness  @Tony_Mandarich well welcome back from the dar...\n",
              "3      happiness            @sai_shediddy lol , you gotta share too\n",
              "4      happiness  first up, make up for lost time with jelly. Ja...\n",
              "...          ...                                                ...\n",
              "14499    neutral  Wish I lived in or atleast relatively close to...\n",
              "14500    neutral  @3Gguy and within a short time of the last clu...\n",
              "14501    neutral                        my phone still doesnt tweet\n",
              "14502    neutral  @blindcripple Good idea Brain, you can't not b...\n",
              "14503    neutral  @mrskutcher just checked library website and g...\n",
              "\n",
              "[14504 rows x 2 columns]"
            ],
            "text/html": [
              "\n",
              "  <div id=\"df-8ddb95e7-9002-4d62-9344-3ead3b45e490\" class=\"colab-df-container\">\n",
              "    <div>\n",
              "<style scoped>\n",
              "    .dataframe tbody tr th:only-of-type {\n",
              "        vertical-align: middle;\n",
              "    }\n",
              "\n",
              "    .dataframe tbody tr th {\n",
              "        vertical-align: top;\n",
              "    }\n",
              "\n",
              "    .dataframe thead th {\n",
              "        text-align: right;\n",
              "    }\n",
              "</style>\n",
              "<table border=\"1\" class=\"dataframe\">\n",
              "  <thead>\n",
              "    <tr style=\"text-align: right;\">\n",
              "      <th></th>\n",
              "      <th>emotion</th>\n",
              "      <th>content</th>\n",
              "    </tr>\n",
              "  </thead>\n",
              "  <tbody>\n",
              "    <tr>\n",
              "      <th>0</th>\n",
              "      <td>happiness</td>\n",
              "      <td>victory for the bulldogs was celebrated by 3 w...</td>\n",
              "    </tr>\n",
              "    <tr>\n",
              "      <th>1</th>\n",
              "      <td>happiness</td>\n",
              "      <td>@saraLDS Thanks for that, Sara</td>\n",
              "    </tr>\n",
              "    <tr>\n",
              "      <th>2</th>\n",
              "      <td>happiness</td>\n",
              "      <td>@Tony_Mandarich well welcome back from the dar...</td>\n",
              "    </tr>\n",
              "    <tr>\n",
              "      <th>3</th>\n",
              "      <td>happiness</td>\n",
              "      <td>@sai_shediddy lol , you gotta share too</td>\n",
              "    </tr>\n",
              "    <tr>\n",
              "      <th>4</th>\n",
              "      <td>happiness</td>\n",
              "      <td>first up, make up for lost time with jelly. Ja...</td>\n",
              "    </tr>\n",
              "    <tr>\n",
              "      <th>...</th>\n",
              "      <td>...</td>\n",
              "      <td>...</td>\n",
              "    </tr>\n",
              "    <tr>\n",
              "      <th>14499</th>\n",
              "      <td>neutral</td>\n",
              "      <td>Wish I lived in or atleast relatively close to...</td>\n",
              "    </tr>\n",
              "    <tr>\n",
              "      <th>14500</th>\n",
              "      <td>neutral</td>\n",
              "      <td>@3Gguy and within a short time of the last clu...</td>\n",
              "    </tr>\n",
              "    <tr>\n",
              "      <th>14501</th>\n",
              "      <td>neutral</td>\n",
              "      <td>my phone still doesnt tweet</td>\n",
              "    </tr>\n",
              "    <tr>\n",
              "      <th>14502</th>\n",
              "      <td>neutral</td>\n",
              "      <td>@blindcripple Good idea Brain, you can't not b...</td>\n",
              "    </tr>\n",
              "    <tr>\n",
              "      <th>14503</th>\n",
              "      <td>neutral</td>\n",
              "      <td>@mrskutcher just checked library website and g...</td>\n",
              "    </tr>\n",
              "  </tbody>\n",
              "</table>\n",
              "<p>14504 rows × 2 columns</p>\n",
              "</div>\n",
              "    <div class=\"colab-df-buttons\">\n",
              "\n",
              "  <div class=\"colab-df-container\">\n",
              "    <button class=\"colab-df-convert\" onclick=\"convertToInteractive('df-8ddb95e7-9002-4d62-9344-3ead3b45e490')\"\n",
              "            title=\"Convert this dataframe to an interactive table.\"\n",
              "            style=\"display:none;\">\n",
              "\n",
              "  <svg xmlns=\"http://www.w3.org/2000/svg\" height=\"24px\" viewBox=\"0 -960 960 960\">\n",
              "    <path d=\"M120-120v-720h720v720H120Zm60-500h600v-160H180v160Zm220 220h160v-160H400v160Zm0 220h160v-160H400v160ZM180-400h160v-160H180v160Zm440 0h160v-160H620v160ZM180-180h160v-160H180v160Zm440 0h160v-160H620v160Z\"/>\n",
              "  </svg>\n",
              "    </button>\n",
              "\n",
              "  <style>\n",
              "    .colab-df-container {\n",
              "      display:flex;\n",
              "      gap: 12px;\n",
              "    }\n",
              "\n",
              "    .colab-df-convert {\n",
              "      background-color: #E8F0FE;\n",
              "      border: none;\n",
              "      border-radius: 50%;\n",
              "      cursor: pointer;\n",
              "      display: none;\n",
              "      fill: #1967D2;\n",
              "      height: 32px;\n",
              "      padding: 0 0 0 0;\n",
              "      width: 32px;\n",
              "    }\n",
              "\n",
              "    .colab-df-convert:hover {\n",
              "      background-color: #E2EBFA;\n",
              "      box-shadow: 0px 1px 2px rgba(60, 64, 67, 0.3), 0px 1px 3px 1px rgba(60, 64, 67, 0.15);\n",
              "      fill: #174EA6;\n",
              "    }\n",
              "\n",
              "    .colab-df-buttons div {\n",
              "      margin-bottom: 4px;\n",
              "    }\n",
              "\n",
              "    [theme=dark] .colab-df-convert {\n",
              "      background-color: #3B4455;\n",
              "      fill: #D2E3FC;\n",
              "    }\n",
              "\n",
              "    [theme=dark] .colab-df-convert:hover {\n",
              "      background-color: #434B5C;\n",
              "      box-shadow: 0px 1px 3px 1px rgba(0, 0, 0, 0.15);\n",
              "      filter: drop-shadow(0px 1px 2px rgba(0, 0, 0, 0.3));\n",
              "      fill: #FFFFFF;\n",
              "    }\n",
              "  </style>\n",
              "\n",
              "    <script>\n",
              "      const buttonEl =\n",
              "        document.querySelector('#df-8ddb95e7-9002-4d62-9344-3ead3b45e490 button.colab-df-convert');\n",
              "      buttonEl.style.display =\n",
              "        google.colab.kernel.accessAllowed ? 'block' : 'none';\n",
              "\n",
              "      async function convertToInteractive(key) {\n",
              "        const element = document.querySelector('#df-8ddb95e7-9002-4d62-9344-3ead3b45e490');\n",
              "        const dataTable =\n",
              "          await google.colab.kernel.invokeFunction('convertToInteractive',\n",
              "                                                    [key], {});\n",
              "        if (!dataTable) return;\n",
              "\n",
              "        const docLinkHtml = 'Like what you see? Visit the ' +\n",
              "          '<a target=\"_blank\" href=https://colab.research.google.com/notebooks/data_table.ipynb>data table notebook</a>'\n",
              "          + ' to learn more about interactive tables.';\n",
              "        element.innerHTML = '';\n",
              "        dataTable['output_type'] = 'display_data';\n",
              "        await google.colab.output.renderOutput(dataTable, element);\n",
              "        const docLink = document.createElement('div');\n",
              "        docLink.innerHTML = docLinkHtml;\n",
              "        element.appendChild(docLink);\n",
              "      }\n",
              "    </script>\n",
              "  </div>\n",
              "\n",
              "\n",
              "<div id=\"df-976c9ce9-ed38-43ae-ac29-cd272e174b02\">\n",
              "  <button class=\"colab-df-quickchart\" onclick=\"quickchart('df-976c9ce9-ed38-43ae-ac29-cd272e174b02')\"\n",
              "            title=\"Suggest charts\"\n",
              "            style=\"display:none;\">\n",
              "\n",
              "<svg xmlns=\"http://www.w3.org/2000/svg\" height=\"24px\"viewBox=\"0 0 24 24\"\n",
              "     width=\"24px\">\n",
              "    <g>\n",
              "        <path d=\"M19 3H5c-1.1 0-2 .9-2 2v14c0 1.1.9 2 2 2h14c1.1 0 2-.9 2-2V5c0-1.1-.9-2-2-2zM9 17H7v-7h2v7zm4 0h-2V7h2v10zm4 0h-2v-4h2v4z\"/>\n",
              "    </g>\n",
              "</svg>\n",
              "  </button>\n",
              "\n",
              "<style>\n",
              "  .colab-df-quickchart {\n",
              "      --bg-color: #E8F0FE;\n",
              "      --fill-color: #1967D2;\n",
              "      --hover-bg-color: #E2EBFA;\n",
              "      --hover-fill-color: #174EA6;\n",
              "      --disabled-fill-color: #AAA;\n",
              "      --disabled-bg-color: #DDD;\n",
              "  }\n",
              "\n",
              "  [theme=dark] .colab-df-quickchart {\n",
              "      --bg-color: #3B4455;\n",
              "      --fill-color: #D2E3FC;\n",
              "      --hover-bg-color: #434B5C;\n",
              "      --hover-fill-color: #FFFFFF;\n",
              "      --disabled-bg-color: #3B4455;\n",
              "      --disabled-fill-color: #666;\n",
              "  }\n",
              "\n",
              "  .colab-df-quickchart {\n",
              "    background-color: var(--bg-color);\n",
              "    border: none;\n",
              "    border-radius: 50%;\n",
              "    cursor: pointer;\n",
              "    display: none;\n",
              "    fill: var(--fill-color);\n",
              "    height: 32px;\n",
              "    padding: 0;\n",
              "    width: 32px;\n",
              "  }\n",
              "\n",
              "  .colab-df-quickchart:hover {\n",
              "    background-color: var(--hover-bg-color);\n",
              "    box-shadow: 0 1px 2px rgba(60, 64, 67, 0.3), 0 1px 3px 1px rgba(60, 64, 67, 0.15);\n",
              "    fill: var(--button-hover-fill-color);\n",
              "  }\n",
              "\n",
              "  .colab-df-quickchart-complete:disabled,\n",
              "  .colab-df-quickchart-complete:disabled:hover {\n",
              "    background-color: var(--disabled-bg-color);\n",
              "    fill: var(--disabled-fill-color);\n",
              "    box-shadow: none;\n",
              "  }\n",
              "\n",
              "  .colab-df-spinner {\n",
              "    border: 2px solid var(--fill-color);\n",
              "    border-color: transparent;\n",
              "    border-bottom-color: var(--fill-color);\n",
              "    animation:\n",
              "      spin 1s steps(1) infinite;\n",
              "  }\n",
              "\n",
              "  @keyframes spin {\n",
              "    0% {\n",
              "      border-color: transparent;\n",
              "      border-bottom-color: var(--fill-color);\n",
              "      border-left-color: var(--fill-color);\n",
              "    }\n",
              "    20% {\n",
              "      border-color: transparent;\n",
              "      border-left-color: var(--fill-color);\n",
              "      border-top-color: var(--fill-color);\n",
              "    }\n",
              "    30% {\n",
              "      border-color: transparent;\n",
              "      border-left-color: var(--fill-color);\n",
              "      border-top-color: var(--fill-color);\n",
              "      border-right-color: var(--fill-color);\n",
              "    }\n",
              "    40% {\n",
              "      border-color: transparent;\n",
              "      border-right-color: var(--fill-color);\n",
              "      border-top-color: var(--fill-color);\n",
              "    }\n",
              "    60% {\n",
              "      border-color: transparent;\n",
              "      border-right-color: var(--fill-color);\n",
              "    }\n",
              "    80% {\n",
              "      border-color: transparent;\n",
              "      border-right-color: var(--fill-color);\n",
              "      border-bottom-color: var(--fill-color);\n",
              "    }\n",
              "    90% {\n",
              "      border-color: transparent;\n",
              "      border-bottom-color: var(--fill-color);\n",
              "    }\n",
              "  }\n",
              "</style>\n",
              "\n",
              "  <script>\n",
              "    async function quickchart(key) {\n",
              "      const quickchartButtonEl =\n",
              "        document.querySelector('#' + key + ' button');\n",
              "      quickchartButtonEl.disabled = true;  // To prevent multiple clicks.\n",
              "      quickchartButtonEl.classList.add('colab-df-spinner');\n",
              "      try {\n",
              "        const charts = await google.colab.kernel.invokeFunction(\n",
              "            'suggestCharts', [key], {});\n",
              "      } catch (error) {\n",
              "        console.error('Error during call to suggestCharts:', error);\n",
              "      }\n",
              "      quickchartButtonEl.classList.remove('colab-df-spinner');\n",
              "      quickchartButtonEl.classList.add('colab-df-quickchart-complete');\n",
              "    }\n",
              "    (() => {\n",
              "      let quickchartButtonEl =\n",
              "        document.querySelector('#df-976c9ce9-ed38-43ae-ac29-cd272e174b02 button');\n",
              "      quickchartButtonEl.style.display =\n",
              "        google.colab.kernel.accessAllowed ? 'block' : 'none';\n",
              "    })();\n",
              "  </script>\n",
              "</div>\n",
              "\n",
              "  <div id=\"id_eb3fb42f-1e53-4fb8-a192-bc5149a5a151\">\n",
              "    <style>\n",
              "      .colab-df-generate {\n",
              "        background-color: #E8F0FE;\n",
              "        border: none;\n",
              "        border-radius: 50%;\n",
              "        cursor: pointer;\n",
              "        display: none;\n",
              "        fill: #1967D2;\n",
              "        height: 32px;\n",
              "        padding: 0 0 0 0;\n",
              "        width: 32px;\n",
              "      }\n",
              "\n",
              "      .colab-df-generate:hover {\n",
              "        background-color: #E2EBFA;\n",
              "        box-shadow: 0px 1px 2px rgba(60, 64, 67, 0.3), 0px 1px 3px 1px rgba(60, 64, 67, 0.15);\n",
              "        fill: #174EA6;\n",
              "      }\n",
              "\n",
              "      [theme=dark] .colab-df-generate {\n",
              "        background-color: #3B4455;\n",
              "        fill: #D2E3FC;\n",
              "      }\n",
              "\n",
              "      [theme=dark] .colab-df-generate:hover {\n",
              "        background-color: #434B5C;\n",
              "        box-shadow: 0px 1px 3px 1px rgba(0, 0, 0, 0.15);\n",
              "        filter: drop-shadow(0px 1px 2px rgba(0, 0, 0, 0.3));\n",
              "        fill: #FFFFFF;\n",
              "      }\n",
              "    </style>\n",
              "    <button class=\"colab-df-generate\" onclick=\"generateWithVariable('train_data')\"\n",
              "            title=\"Generate code using this dataframe.\"\n",
              "            style=\"display:none;\">\n",
              "\n",
              "  <svg xmlns=\"http://www.w3.org/2000/svg\" height=\"24px\"viewBox=\"0 0 24 24\"\n",
              "       width=\"24px\">\n",
              "    <path d=\"M7,19H8.4L18.45,9,17,7.55,7,17.6ZM5,21V16.75L18.45,3.32a2,2,0,0,1,2.83,0l1.4,1.43a1.91,1.91,0,0,1,.58,1.4,1.91,1.91,0,0,1-.58,1.4L9.25,21ZM18.45,9,17,7.55Zm-12,3A5.31,5.31,0,0,0,4.9,8.1,5.31,5.31,0,0,0,1,6.5,5.31,5.31,0,0,0,4.9,4.9,5.31,5.31,0,0,0,6.5,1,5.31,5.31,0,0,0,8.1,4.9,5.31,5.31,0,0,0,12,6.5,5.46,5.46,0,0,0,6.5,12Z\"/>\n",
              "  </svg>\n",
              "    </button>\n",
              "    <script>\n",
              "      (() => {\n",
              "      const buttonEl =\n",
              "        document.querySelector('#id_eb3fb42f-1e53-4fb8-a192-bc5149a5a151 button.colab-df-generate');\n",
              "      buttonEl.style.display =\n",
              "        google.colab.kernel.accessAllowed ? 'block' : 'none';\n",
              "\n",
              "      buttonEl.onclick = () => {\n",
              "        google.colab.notebook.generateWithVariable('train_data');\n",
              "      }\n",
              "      })();\n",
              "    </script>\n",
              "  </div>\n",
              "\n",
              "    </div>\n",
              "  </div>\n"
            ],
            "application/vnd.google.colaboratory.intrinsic+json": {
              "type": "dataframe",
              "variable_name": "train_data",
              "summary": "{\n  \"name\": \"train_data\",\n  \"rows\": 14504,\n  \"fields\": [\n    {\n      \"column\": \"emotion\",\n      \"properties\": {\n        \"dtype\": \"category\",\n        \"num_unique_values\": 3,\n        \"samples\": [\n          \"happiness\",\n          \"sadness\",\n          \"neutral\"\n        ],\n        \"semantic_type\": \"\",\n        \"description\": \"\"\n      }\n    },\n    {\n      \"column\": \"content\",\n      \"properties\": {\n        \"dtype\": \"string\",\n        \"num_unique_values\": 14443,\n        \"samples\": [\n          \"@JoelMadden I applaud you for accepting gay marriage, I have rels that are born again that hate me for it.\",\n          \"Good morning Tweepsland! Makin' it a great Monday! Huge shout out to all my followers .. muah, muah! I appreciate you all\",\n          \"@AClockworkToad I will take lots of pics! it is really pretty there, lots of palm trees.\"\n        ],\n        \"semantic_type\": \"\",\n        \"description\": \"\"\n      }\n    }\n  ]\n}"
            }
          },
          "metadata": {},
          "execution_count": 4
        }
      ]
    },
    {
      "cell_type": "code",
      "source": [
        "!pip install nltk"
      ],
      "metadata": {
        "colab": {
          "base_uri": "https://localhost:8080/"
        },
        "id": "WhMIMAQQXcwq",
        "outputId": "026fc8e6-6314-4732-9380-94d606f15f90"
      },
      "execution_count": null,
      "outputs": [
        {
          "output_type": "stream",
          "name": "stdout",
          "text": [
            "Requirement already satisfied: nltk in /usr/local/lib/python3.10/dist-packages (3.8.1)\n",
            "Requirement already satisfied: click in /usr/local/lib/python3.10/dist-packages (from nltk) (8.1.7)\n",
            "Requirement already satisfied: joblib in /usr/local/lib/python3.10/dist-packages (from nltk) (1.3.2)\n",
            "Requirement already satisfied: regex>=2021.8.3 in /usr/local/lib/python3.10/dist-packages (from nltk) (2023.12.25)\n",
            "Requirement already satisfied: tqdm in /usr/local/lib/python3.10/dist-packages (from nltk) (4.66.2)\n"
          ]
        }
      ]
    },
    {
      "cell_type": "code",
      "source": [
        "import nltk\n",
        "nltk.download('stopwords')"
      ],
      "metadata": {
        "colab": {
          "base_uri": "https://localhost:8080/"
        },
        "id": "9aMtZ2eRXfNx",
        "outputId": "9c456379-f37f-4ccb-87db-0eac56c6f639"
      },
      "execution_count": null,
      "outputs": [
        {
          "output_type": "stream",
          "name": "stderr",
          "text": [
            "[nltk_data] Downloading package stopwords to /root/nltk_data...\n",
            "[nltk_data]   Unzipping corpora/stopwords.zip.\n"
          ]
        },
        {
          "output_type": "execute_result",
          "data": {
            "text/plain": [
              "True"
            ]
          },
          "metadata": {},
          "execution_count": 6
        }
      ]
    },
    {
      "cell_type": "markdown",
      "source": [
        "**Data Cleaning and Preprocessing**"
      ],
      "metadata": {
        "id": "o8LQWNCpHjiy"
      }
    },
    {
      "cell_type": "code",
      "source": [
        "# Text Cleaning\n",
        "REPLACE_BY_SPACE_RE = re.compile('[/(){}\\[\\]\\|@,;]')    # add/remove regex as required\n",
        "BAD_SYMBOLS_RE = re.compile('[^0-9a-z #+_]')\n",
        "NUMBERS = re.compile('\\d+')\n",
        "\n",
        "STOPWORDS = set(stopwords.words('english'))"
      ],
      "metadata": {
        "id": "61ZDMOu6U3Ly"
      },
      "execution_count": null,
      "outputs": []
    },
    {
      "cell_type": "code",
      "source": [
        "def clean_text(text):\n",
        "    text = text.lower()  # Convert text to lowercase\n",
        "    text = re.sub(r\"http\\S+\", \"\", text)  # Remove URLs\n",
        "    text = re.sub(r\"[@#][A-Za-z0-9_]+|\\w+:\\/\\/\\S+\", \"\", text)  # Remove mentions and hashtags\n",
        "    text = re.sub(REPLACE_BY_SPACE_RE, ' ', text)  # Replace certain characters with space\n",
        "    text = re.sub(BAD_SYMBOLS_RE, '', text)  # Remove bad symbols\n",
        "    text = re.sub(NUMBERS, '', text)  # Remove numbers\n",
        "    text = tf.strings.regex_replace(text, '[\\d+]', '')  # Remove numbers using TensorFlow\n",
        "    text = tf.strings.lower(text)  # Convert text to lowercase using TensorFlow\n",
        "    text = tf.strings.regex_replace(text, '[^a-zA-Z]', ' ')  # Remove special characters using TensorFlow\n",
        "    text = tf.strings.regex_replace(text, '\\s+', ' ')  # Remove extra spaces using TensorFlow\n",
        "    return text\n"
      ],
      "metadata": {
        "id": "-bE5uFIHU3M8"
      },
      "execution_count": null,
      "outputs": []
    },
    {
      "cell_type": "code",
      "source": [
        "train_data['cleaned_content'] = train_data['content'].apply(clean_text)\n",
        "test_data['cleaned_content'] = test_data['content'].apply(clean_text)"
      ],
      "metadata": {
        "id": "H9BP5QTAU3SI"
      },
      "execution_count": null,
      "outputs": []
    },
    {
      "cell_type": "code",
      "source": [
        "import nltk\n",
        "from nltk.tokenize import word_tokenize\n",
        "from nltk.stem import WordNetLemmatizer"
      ],
      "metadata": {
        "id": "3o1q_SiMa3IR"
      },
      "execution_count": null,
      "outputs": []
    },
    {
      "cell_type": "code",
      "source": [
        "# Import the WordNetLemmatizer class\n",
        "from nltk.stem import WordNetLemmatizer\n",
        "\n",
        "# Tokenization\n",
        "STOPWORDS = set(stopwords.words('english'))\n",
        "lemmatizer = WordNetLemmatizer()\n",
        "\n",
        "def lemmatize_tokenize(text):\n",
        "    tokens = word_tokenize(text)\n",
        "    lemmatizer = WordNetLemmatizer()\n",
        "    tokens = [lemmatizer.lemmatize(token) for token in tokens if token not in nltk.corpus.stopwords.words('english')]\n",
        "    return tokens"
      ],
      "metadata": {
        "id": "E4Y8AkFOZtkt"
      },
      "execution_count": null,
      "outputs": []
    },
    {
      "cell_type": "code",
      "source": [
        "import nltk\n",
        "nltk.download('punkt')"
      ],
      "metadata": {
        "colab": {
          "base_uri": "https://localhost:8080/"
        },
        "id": "WAlZyLeLansw",
        "outputId": "2dc1e211-f618-413f-9cbc-a0b2f9ed65d1"
      },
      "execution_count": null,
      "outputs": [
        {
          "output_type": "stream",
          "name": "stderr",
          "text": [
            "[nltk_data] Downloading package punkt to /root/nltk_data...\n",
            "[nltk_data]   Unzipping tokenizers/punkt.zip.\n"
          ]
        },
        {
          "output_type": "execute_result",
          "data": {
            "text/plain": [
              "True"
            ]
          },
          "metadata": {},
          "execution_count": 12
        }
      ]
    },
    {
      "cell_type": "code",
      "source": [
        "nltk.download('punkt')\n",
        "nltk.download('wordnet')"
      ],
      "metadata": {
        "colab": {
          "base_uri": "https://localhost:8080/"
        },
        "id": "PFaXD9PpbIvd",
        "outputId": "c0a79718-101c-4178-94a6-71ae1eea8462"
      },
      "execution_count": null,
      "outputs": [
        {
          "output_type": "stream",
          "name": "stderr",
          "text": [
            "[nltk_data] Downloading package punkt to /root/nltk_data...\n",
            "[nltk_data]   Package punkt is already up-to-date!\n",
            "[nltk_data] Downloading package wordnet to /root/nltk_data...\n"
          ]
        },
        {
          "output_type": "execute_result",
          "data": {
            "text/plain": [
              "True"
            ]
          },
          "metadata": {},
          "execution_count": 13
        }
      ]
    },
    {
      "cell_type": "code",
      "source": [
        "print(train_data['cleaned_content'].dtype)"
      ],
      "metadata": {
        "colab": {
          "base_uri": "https://localhost:8080/"
        },
        "id": "-F1cs5CTbK0N",
        "outputId": "8bb355d3-b4dd-4914-933c-4414180e0e4f"
      },
      "execution_count": null,
      "outputs": [
        {
          "output_type": "stream",
          "name": "stdout",
          "text": [
            "object\n"
          ]
        }
      ]
    },
    {
      "cell_type": "code",
      "source": [
        "train_data['cleaned_content'] = train_data['cleaned_content'].astype(str)\n",
        "test_data['cleaned_content'] = test_data['cleaned_content'].astype(str)"
      ],
      "metadata": {
        "id": "TOjniFpoYBwq"
      },
      "execution_count": null,
      "outputs": []
    },
    {
      "cell_type": "code",
      "source": [
        "train_data['tokens'] = train_data['cleaned_content'].apply(lemmatize_tokenize)\n",
        "test_data['tokens'] = test_data['cleaned_content'].apply(lemmatize_tokenize)"
      ],
      "metadata": {
        "id": "yQ0ZycG4YB07"
      },
      "execution_count": null,
      "outputs": []
    },
    {
      "cell_type": "markdown",
      "source": [
        "**Exploratory Data Analysis EDA**"
      ],
      "metadata": {
        "id": "0GePyGUIIQtR"
      }
    },
    {
      "cell_type": "code",
      "source": [
        "#Exploratory Data Analysis (EDA)\n",
        "print(train_data.head())\n",
        "print(train_data.info())\n",
        "print(train_data['emotion'].value_counts())"
      ],
      "metadata": {
        "colab": {
          "base_uri": "https://localhost:8080/"
        },
        "id": "o6NQ11ydYB2I",
        "outputId": "925f40d8-a124-4aaf-c2b8-d2879d0c7005"
      },
      "execution_count": null,
      "outputs": [
        {
          "output_type": "stream",
          "name": "stdout",
          "text": [
            "     emotion                                            content  \\\n",
            "0  happiness  victory for the bulldogs was celebrated by 3 w...   \n",
            "1  happiness                     @saraLDS Thanks for that, Sara   \n",
            "2  happiness  @Tony_Mandarich well welcome back from the dar...   \n",
            "3  happiness            @sai_shediddy lol , you gotta share too   \n",
            "4  happiness  first up, make up for lost time with jelly. Ja...   \n",
            "\n",
            "                                     cleaned_content  \\\n",
            "0  b'victory for the bulldogs was celebrated by w...   \n",
            "1                           b' thanks for that sara'   \n",
            "2           b' well welcome back from the dark side'   \n",
            "3                        b' lol you gotta share too'   \n",
            "4  b'first up make up for lost time with jelly ja...   \n",
            "\n",
            "                                              tokens  \n",
            "0  [b'victory, bulldog, celebrated, white, chocol...  \n",
            "1                            [b, ', thanks, sara, ']  \n",
            "2         [b, ', well, welcome, back, dark, side, ']  \n",
            "3                     [b, ', lol, got, ta, share, ']  \n",
            "4  [b'first, make, lost, time, jelly, jalan, jala...  \n",
            "<class 'pandas.core.frame.DataFrame'>\n",
            "RangeIndex: 14504 entries, 0 to 14503\n",
            "Data columns (total 4 columns):\n",
            " #   Column           Non-Null Count  Dtype \n",
            "---  ------           --------------  ----- \n",
            " 0   emotion          14504 non-null  object\n",
            " 1   content          14504 non-null  object\n",
            " 2   cleaned_content  14504 non-null  object\n",
            " 3   tokens           14504 non-null  object\n",
            "dtypes: object(4)\n",
            "memory usage: 453.4+ KB\n",
            "None\n",
            "happiness    5430\n",
            "neutral      5182\n",
            "sadness      3892\n",
            "Name: emotion, dtype: int64\n"
          ]
        }
      ]
    },
    {
      "cell_type": "code",
      "source": [
        "# Plot distribution of target labels\n",
        "plt.figure(figsize=(8, 6))\n",
        "sns.countplot(x='emotion', data=train_data)\n",
        "plt.title('Distribution of Emotion Labels (Train Data)')\n",
        "plt.xlabel('Emotion Labels')\n",
        "plt.ylabel('Count')\n",
        "plt.show()"
      ],
      "metadata": {
        "colab": {
          "base_uri": "https://localhost:8080/",
          "height": 564
        },
        "id": "RX8R1agcbtBF",
        "outputId": "8715c49a-af66-41cd-c0e8-955ec885b246"
      },
      "execution_count": null,
      "outputs": [
        {
          "output_type": "display_data",
          "data": {
            "text/plain": [
              "<Figure size 800x600 with 1 Axes>"
            ],
            "image/png": "[encoded data removed]"
          },
          "metadata": {}
        }
      ]
    },
    {
      "cell_type": "code",
      "source": [
        "from matplotlib import pyplot as plt\n",
        "import seaborn as sns\n",
        "train_data.groupby('emotion').size().plot(kind='barh', color=sns.palettes.mpl_palette('Dark2'))\n",
        "plt.gca().spines[['top', 'right',]].set_visible(False)"
      ],
      "metadata": {
        "colab": {
          "base_uri": "https://localhost:8080/",
          "height": 430
        },
        "id": "jTYgKAlhb4Nv",
        "outputId": "9d763a68-5000-417f-d197-afe5ab0a169c"
      },
      "execution_count": null,
      "outputs": [
        {
          "output_type": "display_data",
          "data": {
            "text/plain": [
              "<Figure size 640x480 with 1 Axes>"
            ],
            "image/png": "[encoded data removed]"
          },
          "metadata": {}
        }
      ]
    },
    {
      "cell_type": "code",
      "source": [
        "# Visualize distribution of text lengths\n",
        "\n",
        "texts_train = train_data['content'].values\n",
        "text_lengths_train = [len(text.split()) for text in texts_train]\n",
        "plt.figure(figsize=(8, 6))\n",
        "sns.histplot(text_lengths_train, bins=30)\n",
        "plt.title('Distribution of Text Lengths (Train Data)')\n",
        "plt.xlabel('Text Length')\n",
        "plt.ylabel('Frequency')\n",
        "plt.show()"
      ],
      "metadata": {
        "colab": {
          "base_uri": "https://localhost:8080/",
          "height": 564
        },
        "id": "-lwTpaGziT_4",
        "outputId": "68cbda28-eafa-4eb9-9265-8e3f1a861a1b"
      },
      "execution_count": null,
      "outputs": [
        {
          "output_type": "display_data",
          "data": {
            "text/plain": [
              "<Figure size 800x600 with 1 Axes>"
            ],
            "image/png": "[encoded data removed]"
          },
          "metadata": {}
        }
      ]
    },
    {
      "cell_type": "markdown",
      "source": [
        "**Preprocessing_Encoding_labels**"
      ],
      "metadata": {
        "id": "3tKbtvCPIbhM"
      }
    },
    {
      "cell_type": "code",
      "source": [
        "#Preprocessing\n",
        "# Encode labels\n",
        "label_encoder = LabelEncoder()\n",
        "encoded_labels_train = label_encoder.fit_transform(train_data['emotion'].values)\n",
        "encoded_labels_test = label_encoder.transform(test_data['emotion'].values)\n"
      ],
      "metadata": {
        "id": "Hki-e9QRhtQj"
      },
      "execution_count": null,
      "outputs": []
    },
    {
      "cell_type": "code",
      "source": [
        "# Tokenize text\n",
        "tokenizer = Tokenizer()\n",
        "tokenizer.fit_on_texts(train_data['tokens'].values)\n",
        "sequences_train = tokenizer.texts_to_sequences(train_data['tokens'].values)\n",
        "sequences_test = tokenizer.texts_to_sequences(test_data['tokens'].values)"
      ],
      "metadata": {
        "id": "UuBNWfrBhtSG"
      },
      "execution_count": null,
      "outputs": []
    },
    {
      "cell_type": "code",
      "source": [
        "# Pad sequences\n",
        "max_len = max([len(seq) for seq in sequences_train + sequences_test])\n",
        "padded_sequences_train = pad_sequences(sequences_train, maxlen=max_len, padding='post')\n",
        "padded_sequences_test = pad_sequences(sequences_test, maxlen=max_len, padding='post')\n"
      ],
      "metadata": {
        "id": "lEvWrg7Hk792"
      },
      "execution_count": null,
      "outputs": []
    },
    {
      "cell_type": "markdown",
      "source": [
        "### Data Cleaning and Processing Pipeline Explanation\n",
        "\n",
        "#### Data Cleaning:\n",
        "1. **Lowercasing**: The text data is converted to lowercase to ensure uniformity in text processing and analysis.\n",
        "   \n",
        "2. **URL Removal**: Regular expressions are used to remove URLs from the text data as they typically don't contribute to sentiment or emotion analysis.\n",
        "\n",
        "3. **Mention and Hashtag Removal**: Using regex, mentions (e.g., @username) and hashtags (#example) are removed from the text data as they often do not provide valuable information for emotion classification.\n",
        "\n",
        "4. **Special Character Removal**: Certain special characters such as parentheses, brackets, etc., are removed using regex to ensure that the text data is clean and ready for analysis.\n",
        "\n",
        "5. **Numeric Removal**: Numbers are removed from the text data as they may not be relevant for emotion classification and can add noise to the data.\n",
        "\n",
        "6. **Stopword Removal**: Stopwords (commonly occurring words like 'the', 'is', 'and', etc.) are removed from the text data as they typically do not carry significant meaning for emotion classification.\n",
        "\n",
        "7. **Lemmatization**: The text is tokenized and lemmatized using NLTK's WordNetLemmatizer to reduce words to their base or dictionary form. This helps in standardizing the text data further.\n",
        "\n",
        "#### Data Preprocessing:\n",
        "1. **Tokenization**: The cleaned text data is tokenized into individual words using NLTK's word_tokenize function. This breaks down the text into its constituent words for further processing.\n",
        "\n",
        "2. **Lemmatization and Stopword Removal**: Tokenized words are lemmatized to reduce them to their base form, and stopwords are removed to eliminate noise from the text data.\n",
        "\n",
        "3. **Encoding Labels**: Emotion labels are encoded using scikit-learn's LabelEncoder to convert categorical emotion labels into numerical values for model training.\n",
        "\n",
        "4. **Text Tokenization**: The text data is tokenized using Keras' Tokenizer, which converts text into sequences of integers, where each integer represents a unique word in the vocabulary.\n",
        "\n",
        "5. **Padding Sequences**: To ensure uniform input dimensions for the model, sequences are padded or truncated to a fixed length using Keras' pad_sequences function. This ensures that all sequences have the same length, which is crucial for training deep learning models.\n",
        "\n",
        "#### Exploratory Data Analysis (EDA):\n",
        "1. **Data Summary**: A summary of the dataset including the first few rows, information about columns, and counts of unique emotion labels is provided to understand the structure and composition of the data.\n",
        "\n",
        "2. **Label Distribution Visualization**: The distribution of emotion labels in the dataset is visualized using count plots to understand the class balance or imbalance.\n",
        "\n",
        "3. **Text Length Distribution**: The distribution of text lengths is visualized to understand the variability in text lengths across the dataset. This helps in determining an appropriate maximum sequence length for padding sequences during preprocessing.\n",
        "\n",
        "Overall, this pipeline ensures that the text data is cleaned, processed, and prepared in a standardized format suitable for emotion classification tasks, while EDA provides insights into the dataset's characteristics and helps in making informed decisions during model development and evaluation.\n"
      ],
      "metadata": {
        "id": "mCEOGPEDL5Ua"
      }
    },
    {
      "cell_type": "code",
      "source": [
        "# Step 4: Train-Test Split (using train data only for EDA)\n",
        "X_train, X_val, y_train, y_val = train_test_split(padded_sequences_train, encoded_labels_train, test_size=0.2, random_state=42)\n"
      ],
      "metadata": {
        "id": "ayCBOJnChtXg"
      },
      "execution_count": null,
      "outputs": []
    },
    {
      "cell_type": "markdown",
      "source": [
        "**LSTM Model**"
      ],
      "metadata": {
        "id": "51knAi5yI8Xv"
      }
    },
    {
      "cell_type": "code",
      "source": [
        "# Define LSTM model\n",
        "def create_lstm_model(input_dim):\n",
        "    model = Sequential()\n",
        "    model.add(Embedding(input_dim=input_dim + 1, output_dim=100, input_length=max_len))\n",
        "    model.add(LSTM(units=64, dropout=0.2, recurrent_dropout=0.2))\n",
        "    model.add(Dense(units=len(label_encoder.classes_), activation='softmax'))\n",
        "    return model\n"
      ],
      "metadata": {
        "id": "TtiPsJ6blIk0"
      },
      "execution_count": null,
      "outputs": []
    },
    {
      "cell_type": "markdown",
      "source": [
        "**GRU Model**"
      ],
      "metadata": {
        "id": "7VnKNvlYJD2j"
      }
    },
    {
      "cell_type": "code",
      "source": [
        "# Define GRU model\n",
        "def create_gru_model(input_dim):\n",
        "    model = Sequential()\n",
        "    model.add(Embedding(input_dim=input_dim + 1, output_dim=100, input_length=max_len))\n",
        "    model.add(GRU(units=64, dropout=0.2, recurrent_dropout=0.2))\n",
        "    model.add(Dense(units=len(label_encoder.classes_), activation='softmax'))\n",
        "    return model\n"
      ],
      "metadata": {
        "id": "_3pj_Sq2lIoh"
      },
      "execution_count": null,
      "outputs": []
    },
    {
      "cell_type": "markdown",
      "source": [
        "**Training Model**"
      ],
      "metadata": {
        "id": "a8RiyCOUJUp_"
      }
    },
    {
      "cell_type": "code",
      "source": [
        "# Compile and train models\n",
        "def compile_and_train(model, optimizer, X_train, y_train, X_val, y_val):\n",
        "    model.compile(loss='sparse_categorical_crossentropy', optimizer=optimizer, metrics=['accuracy'])\n",
        "    early_stopping = EarlyStopping(monitor='val_loss', patience=3, restore_best_weights=True)\n",
        "    history = model.fit(X_train, y_train, epochs=20, batch_size=32, validation_data=(X_val, y_val), callbacks=[early_stopping])\n",
        "    return history\n",
        "\n"
      ],
      "metadata": {
        "id": "O78ManWXleyd"
      },
      "execution_count": null,
      "outputs": []
    },
    {
      "cell_type": "markdown",
      "source": [
        "**Evaluate model on test set and plot confusion matrix**\n"
      ],
      "metadata": {
        "id": "GOWNn6UQJZc4"
      }
    },
    {
      "cell_type": "code",
      "source": [
        "# Evaluate model on test set and plot confusion matrix\n",
        "def evaluate_model(model, X_test, y_test):\n",
        "    y_pred_prob = model.predict(X_test)\n",
        "    y_pred = np.argmax(y_pred_prob, axis=1)\n",
        "    accuracy = accuracy_score(y_test, y_pred)\n",
        "    accuracy_percentage = accuracy * 100  # Convert accuracy to percentage\n",
        "    print(\"Accuracy: {:.2f}%\".format(accuracy_percentage))  # Print accuracy as percentage\n",
        "    print(classification_report(y_test, y_pred))\n",
        "    cm = confusion_matrix(y_test, y_pred)\n",
        "    plt.figure(figsize=(8, 6))\n",
        "    sns.heatmap(cm, annot=True, fmt='g', cmap='Blues', xticklabels=label_encoder.classes_, yticklabels=label_encoder.classes_)\n",
        "    plt.title('Confusion Matrix')\n",
        "    plt.xlabel('Predicted')\n",
        "    plt.ylabel('Actual')\n",
        "    plt.show()\n",
        "\n"
      ],
      "metadata": {
        "id": "D55Ym14yofdn"
      },
      "execution_count": null,
      "outputs": []
    },
    {
      "cell_type": "markdown",
      "source": [
        "**LSTM Training**"
      ],
      "metadata": {
        "id": "C9DVpnCMJvJc"
      }
    },
    {
      "cell_type": "code",
      "source": [
        "!pip install scikit-learn\n",
        "from sklearn.metrics import accuracy_score\n",
        "\n",
        "# LSTM model\n",
        "lstm_model = create_lstm_model(len(tokenizer.word_index))\n",
        "lstm_history = compile_and_train(lstm_model, optimizer=RMSprop(), X_train=X_train, y_train=y_train, X_val=X_val, y_val=y_val)\n",
        "evaluate_model(lstm_model, padded_sequences_test, encoded_labels_test)"
      ],
      "metadata": {
        "colab": {
          "base_uri": "https://localhost:8080/",
          "height": 1000
        },
        "id": "QNzgaf8xoRwH",
        "outputId": "98eabcfc-8896-4910-92d0-e75b4668cd22"
      },
      "execution_count": null,
      "outputs": [
        {
          "metadata": {
            "tags": null
          },
          "name": "stdout",
          "output_type": "stream",
          "text": [
            "Requirement already satisfied: scikit-learn in /usr/local/lib/python3.10/dist-packages (1.2.2)\n",
            "Requirement already satisfied: numpy>=1.17.3 in /usr/local/lib/python3.10/dist-packages (from scikit-learn) (1.25.2)\n",
            "Requirement already satisfied: scipy>=1.3.2 in /usr/local/lib/python3.10/dist-packages (from scikit-learn) (1.11.4)\n",
            "Requirement already satisfied: joblib>=1.1.1 in /usr/local/lib/python3.10/dist-packages (from scikit-learn) (1.3.2)\n",
            "Requirement already satisfied: threadpoolctl>=2.0.0 in /usr/local/lib/python3.10/dist-packages (from scikit-learn) (3.3.0)\n"
          ]
        },
        {
          "metadata": {
            "tags": null
          },
          "name": "stderr",
          "output_type": "stream",
          "text": [
            "WARNING:tensorflow:Layer lstm will not use cuDNN kernels since it doesn't meet the criteria. It will use a generic GPU kernel as fallback when running on GPU.\n"
          ]
        },
        {
          "output_type": "stream",
          "name": "stdout",
          "text": [
            "Epoch 1/20\n",
            "363/363 [==============================] - 47s 116ms/step - loss: 1.0353 - accuracy: 0.4256 - val_loss: 0.9467 - val_accuracy: 0.5353\n",
            "Epoch 2/20\n",
            "363/363 [==============================] - 35s 97ms/step - loss: 0.8588 - accuracy: 0.5948 - val_loss: 0.8535 - val_accuracy: 0.6039\n",
            "Epoch 3/20\n",
            "363/363 [==============================] - 36s 98ms/step - loss: 0.7560 - accuracy: 0.6781 - val_loss: 0.8458 - val_accuracy: 0.6312\n",
            "Epoch 4/20\n",
            "363/363 [==============================] - 34s 93ms/step - loss: 0.6766 - accuracy: 0.7256 - val_loss: 0.8611 - val_accuracy: 0.6212\n",
            "Epoch 5/20\n",
            "363/363 [==============================] - 34s 93ms/step - loss: 0.6117 - accuracy: 0.7658 - val_loss: 0.8914 - val_accuracy: 0.6194\n",
            "Epoch 6/20\n",
            "363/363 [==============================] - 33s 92ms/step - loss: 0.5600 - accuracy: 0.7863 - val_loss: 0.9059 - val_accuracy: 0.6432\n",
            "152/152 [==============================] - 2s 10ms/step\n",
            "Accuracy: 51.09%\n",
            "              precision    recall  f1-score   support\n",
            "\n",
            "           0       0.77      0.32      0.45      1811\n",
            "           1       0.48      0.59      0.53      1728\n",
            "           2       0.44      0.67      0.53      1298\n",
            "\n",
            "    accuracy                           0.51      4837\n",
            "   macro avg       0.56      0.53      0.51      4837\n",
            "weighted avg       0.58      0.51      0.50      4837\n",
            "\n"
          ]
        },
        {
          "output_type": "display_data",
          "data": {
            "text/plain": [
              "<Figure size 800x600 with 2 Axes>"
            ],
            "image/png": "[encoded data removed]"
          },
          "metadata": {}
        }
      ]
    },
    {
      "cell_type": "markdown",
      "source": [
        "**Vanilla RNN model Training**"
      ],
      "metadata": {
        "id": "72j7pa4VJ6--"
      }
    },
    {
      "cell_type": "code",
      "source": [
        "from tensorflow.keras.layers import Dropout\n",
        "\n",
        "# Define an enhanced Vanilla RNN model with increased complexity and regularization\n",
        "def create_vanilla_rnn_model(input_dim):\n",
        "    model = Sequential()\n",
        "    model.add(Embedding(input_dim=input_dim + 1, output_dim=100, input_length=max_len))\n",
        "    model.add(SimpleRNN(units=128, activation='relu', return_sequences=True))\n",
        "    model.add(Dropout(0.5))  # Add dropout for regularization\n",
        "    model.add(SimpleRNN(units=64, activation='relu', return_sequences=True))  # Added another RNN layer\n",
        "    model.add(Dropout(0.5))  # Add dropout for regularization\n",
        "    model.add(SimpleRNN(units=32, activation='relu'))  # Added another RNN layer\n",
        "    model.add(Dense(units=len(label_encoder.classes_), activation='softmax'))\n",
        "    return model\n",
        "\n",
        "# Compile and train the updated Vanilla RNN model with adjusted learning rate and increased epochs\n",
        "vanilla_rnn_model = create_vanilla_rnn_model(len(tokenizer.word_index))\n",
        "vanilla_rnn_history = compile_and_train(vanilla_rnn_model, optimizer=Adam(learning_rate=0.0001), X_train=X_train, y_train=y_train, X_val=X_val, y_val=y_val)\n",
        "evaluate_model(vanilla_rnn_model, padded_sequences_test, encoded_labels_test)\n"
      ],
      "metadata": {
        "colab": {
          "base_uri": "https://localhost:8080/",
          "height": 1000
        },
        "id": "KWPSD0NZEZxX",
        "outputId": "b12299a5-04e4-49dc-c11d-7a51f346a5a2"
      },
      "execution_count": null,
      "outputs": [
        {
          "output_type": "stream",
          "name": "stdout",
          "text": [
            "Epoch 1/20\n",
            "363/363 [==============================] - 41s 99ms/step - loss: 1.0914 - accuracy: 0.3756 - val_loss: 1.0906 - val_accuracy: 0.3792\n",
            "Epoch 2/20\n",
            "363/363 [==============================] - 30s 81ms/step - loss: 1.0895 - accuracy: 0.3728 - val_loss: 1.0911 - val_accuracy: 0.3519\n",
            "Epoch 3/20\n",
            "363/363 [==============================] - 28s 76ms/step - loss: 1.0897 - accuracy: 0.3675 - val_loss: 1.0882 - val_accuracy: 0.3792\n",
            "Epoch 4/20\n",
            "363/363 [==============================] - 28s 77ms/step - loss: 1.0895 - accuracy: 0.3684 - val_loss: 1.0883 - val_accuracy: 0.3792\n",
            "Epoch 5/20\n",
            "363/363 [==============================] - 29s 79ms/step - loss: 1.0893 - accuracy: 0.3718 - val_loss: 1.0888 - val_accuracy: 0.3788\n",
            "Epoch 6/20\n",
            "363/363 [==============================] - 28s 76ms/step - loss: 1.0892 - accuracy: 0.3735 - val_loss: 1.0881 - val_accuracy: 0.3792\n",
            "Epoch 7/20\n",
            "363/363 [==============================] - 28s 77ms/step - loss: 1.0866 - accuracy: 0.3688 - val_loss: 1.0680 - val_accuracy: 0.3823\n",
            "Epoch 8/20\n",
            "363/363 [==============================] - 29s 79ms/step - loss: 0.9949 - accuracy: 0.4469 - val_loss: 0.9853 - val_accuracy: 0.4695\n",
            "Epoch 9/20\n",
            "363/363 [==============================] - 27s 75ms/step - loss: 0.8687 - accuracy: 0.5605 - val_loss: 0.9231 - val_accuracy: 0.5691\n",
            "Epoch 10/20\n",
            "363/363 [==============================] - 27s 76ms/step - loss: 0.7060 - accuracy: 0.6881 - val_loss: 0.9650 - val_accuracy: 0.5967\n",
            "Epoch 11/20\n",
            "363/363 [==============================] - 28s 77ms/step - loss: 0.5476 - accuracy: 0.7879 - val_loss: 1.1084 - val_accuracy: 0.5857\n",
            "Epoch 12/20\n",
            "363/363 [==============================] - 28s 77ms/step - loss: 0.4114 - accuracy: 0.8502 - val_loss: 1.2800 - val_accuracy: 0.5750\n",
            "152/152 [==============================] - 2s 8ms/step\n",
            "Accuracy: 46.81%\n",
            "              precision    recall  f1-score   support\n",
            "\n",
            "           0       0.55      0.47      0.51      1811\n",
            "           1       0.47      0.31      0.37      1728\n",
            "           2       0.41      0.67      0.51      1298\n",
            "\n",
            "    accuracy                           0.47      4837\n",
            "   macro avg       0.48      0.48      0.46      4837\n",
            "weighted avg       0.48      0.47      0.46      4837\n",
            "\n"
          ]
        },
        {
          "output_type": "display_data",
          "data": {
            "text/plain": [
              "<Figure size 800x600 with 2 Axes>"
            ],
            "image/png": "[encoded data removed]"
          },
          "metadata": {}
        }
      ]
    },
    {
      "cell_type": "markdown",
      "source": [
        "**GRU Model Training**"
      ],
      "metadata": {
        "id": "2huTvCEDKCjD"
      }
    },
    {
      "cell_type": "code",
      "source": [
        "# GRU model\n",
        "gru_model = create_gru_model(len(tokenizer.word_index))\n",
        "gru_history = compile_and_train(gru_model, optimizer=Adam(), X_train=X_train, y_train=y_train, X_val=X_val, y_val=y_val)\n",
        "evaluate_model(gru_model, padded_sequences_test, encoded_labels_test)"
      ],
      "metadata": {
        "colab": {
          "base_uri": "https://localhost:8080/",
          "height": 1000
        },
        "id": "Q-k9ZBqspx4Q",
        "outputId": "cb9dd4e6-da12-408e-a454-ef252eafe653"
      },
      "execution_count": null,
      "outputs": [
        {
          "output_type": "stream",
          "name": "stderr",
          "text": [
            "WARNING:tensorflow:Layer gru will not use cuDNN kernels since it doesn't meet the criteria. It will use a generic GPU kernel as fallback when running on GPU.\n"
          ]
        },
        {
          "output_type": "stream",
          "name": "stdout",
          "text": [
            "Epoch 1/20\n",
            "363/363 [==============================] - 65s 170ms/step - loss: 1.0911 - accuracy: 0.3571 - val_loss: 1.0894 - val_accuracy: 0.3540\n",
            "Epoch 2/20\n",
            "363/363 [==============================] - 33s 90ms/step - loss: 1.0307 - accuracy: 0.4261 - val_loss: 0.8926 - val_accuracy: 0.5832\n",
            "Epoch 3/20\n",
            "363/363 [==============================] - 33s 90ms/step - loss: 0.7781 - accuracy: 0.6532 - val_loss: 0.8193 - val_accuracy: 0.6425\n",
            "Epoch 4/20\n",
            "363/363 [==============================] - 31s 85ms/step - loss: 0.5607 - accuracy: 0.7775 - val_loss: 0.8849 - val_accuracy: 0.6350\n",
            "Epoch 5/20\n",
            "363/363 [==============================] - 31s 85ms/step - loss: 0.3843 - accuracy: 0.8608 - val_loss: 1.0846 - val_accuracy: 0.6153\n",
            "Epoch 6/20\n",
            "363/363 [==============================] - 30s 82ms/step - loss: 0.2747 - accuracy: 0.9036 - val_loss: 1.2477 - val_accuracy: 0.5977\n",
            "152/152 [==============================] - 1s 8ms/step\n",
            "Accuracy: 53.86%\n",
            "              precision    recall  f1-score   support\n",
            "\n",
            "           0       0.72      0.42      0.53      1811\n",
            "           1       0.55      0.56      0.55      1728\n",
            "           2       0.44      0.68      0.53      1298\n",
            "\n",
            "    accuracy                           0.54      4837\n",
            "   macro avg       0.57      0.55      0.54      4837\n",
            "weighted avg       0.58      0.54      0.54      4837\n",
            "\n"
          ]
        },
        {
          "output_type": "display_data",
          "data": {
            "text/plain": [
              "<Figure size 800x600 with 2 Axes>"
            ],
            "image/png": "[encoded data removed]"
          },
          "metadata": {}
        }
      ]
    },
    {
      "cell_type": "code",
      "source": [
        "# Plot accuracy for all models\n",
        "plt.figure(figsize=(12, 5))\n",
        "plt.plot(vanilla_rnn_history.history['val_accuracy'], label='Vanilla RNN')\n",
        "plt.plot(lstm_history.history['val_accuracy'], label='LSTM')\n",
        "plt.plot(gru_history.history['val_accuracy'], label='GRU')\n",
        "plt.xlabel('Epochs')\n",
        "plt.ylabel('Validation Accuracy')\n",
        "plt.title('Model Validation Accuracy Comparison')\n",
        "plt.legend()\n",
        "plt.grid(True)\n",
        "plt.show()"
      ],
      "metadata": {
        "colab": {
          "base_uri": "https://localhost:8080/",
          "height": 487
        },
        "id": "Q1Xra_iCN-2o",
        "outputId": "3eab44f3-492a-4842-8232-92e55bfa5a3b"
      },
      "execution_count": null,
      "outputs": [
        {
          "output_type": "display_data",
          "data": {
            "text/plain": [
              "<Figure size 1200x500 with 1 Axes>"
            ],
            "image/png": "[encoded data removed]"
          },
          "metadata": {}
        }
      ]
    },
    {
      "cell_type": "markdown",
      "source": [
        "### Differences in Methods Tried\n",
        "\n",
        "#### LSTM Model:\n",
        "- **Architecture**: Long Short-Term Memory (LSTM) networks were utilized, which are a type of recurrent neural network (RNN) capable of learning long-term dependencies.\n",
        "- **Dropout**: Dropout regularization was applied to prevent overfitting, with a dropout rate of 0.2 to randomly drop 20% of units during training.\n",
        "- **Optimizer**: RMSprop optimizer was chosen for training the LSTM model.\n",
        "\n",
        "#### Vanilla RNN Model:\n",
        "- **Architecture**: A basic Vanilla RNN model was implemented with multiple recurrent layers to increase complexity.\n",
        "- **Dropout**: Dropout regularization was applied after each recurrent layer with a dropout rate of 0.5.\n",
        "- **Optimizer**: Adam optimizer was utilized with a learning rate of 0.0001 for training the Vanilla RNN model.\n",
        "\n",
        "#### GRU Model:\n",
        "- **Architecture**: Gated Recurrent Unit (GRU) networks were employed, which are similar to LSTMs but have fewer parameters.\n",
        "- **Dropout**: Dropout regularization was applied to the GRU model with a dropout rate of 0.2.\n",
        "- **Optimizer**: Adam optimizer was used for training the GRU model.\n",
        "\n",
        "#### Observations and Differences:\n",
        "- **Complexity**: LSTM and GRU models typically have more parameters and are capable of capturing long-term dependencies more effectively compared to Vanilla RNNs.\n",
        "- **Regularization**: Dropout regularization was applied to all models to prevent overfitting, although the dropout rates varied between models.\n",
        "- **Optimizers**: Different optimizers were used for training each model, with RMSprop for LSTM, Adam with a specific learning rate for Vanilla RNN, and Adam for GRU. Optimizer choice can affect convergence speed and performance.\n",
        "\n",
        "\n"
      ],
      "metadata": {
        "id": "-SJTpUZiN04F"
      }
    },
    {
      "cell_type": "markdown",
      "source": [
        "### Conclusion\n",
        "\n",
        "In this project, we explored various deep learning architectures for emotion classification using text data. We experimented with Long Short-Term Memory (LSTM), Gated Recurrent Unit (GRU), and Vanilla Recurrent Neural Network (RNN) models. Here are the key takeaways:\n",
        "\n",
        "- **Model Architectures**: We implemented LSTM, GRU, and Vanilla RNN architectures to capture the sequential nature of text data and learn patterns related to emotions.\n",
        "- **Regularization**: Dropout regularization was applied to prevent overfitting in all models. Different dropout rates were used for each model to find the optimal balance between performance and generalization.\n",
        "- **Optimizers**: We employed RMSprop for LSTM, Adam with a specific learning rate for Vanilla RNN, and Adam for GRU. Optimizer choice can significantly impact model convergence and performance.\n",
        "- **Evaluation**: Each model was evaluated on the test set using accuracy, precision, recall, and F1-score metrics. Confusion matrices were also plotted to visualize the performance of each model across different emotion classes.\n",
        "- **Performance Comparison**: The performance of each model varied, with LSTM and GRU generally outperforming Vanilla RNN. However, the choice of the best model depends on the specific dataset and task requirements.\n",
        "\n",
        "In conclusion, through experimentation with different architectures and optimization strategies, we gained insights into building effective deep learning models for emotion classification tasks. Further fine-tuning and hyperparameter optimization could lead to even better performance on the task at hand.\n"
      ],
      "metadata": {
        "id": "hV7BFS0pPgU1"
      }
    },
    {
      "cell_type": "code",
      "source": [],
      "metadata": {
        "id": "6FNtd2MwN7Sw"
      },
      "execution_count": null,
      "outputs": []
    }
  ]
}