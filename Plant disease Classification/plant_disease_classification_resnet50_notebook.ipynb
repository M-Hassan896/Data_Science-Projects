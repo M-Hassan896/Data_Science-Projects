{
  "metadata": {
    "kernelspec": {
      "language": "python",
      "display_name": "Python 3",
      "name": "python3"
    },
    "language_info": {
      "name": "python",
      "version": "3.10.13",
      "mimetype": "text/x-python",
      "codemirror_mode": {
        "name": "ipython",
        "version": 3
      },
      "pygments_lexer": "ipython3",
      "nbconvert_exporter": "python",
      "file_extension": ".py"
    },
    "kaggle": {
      "accelerator": "none",
      "dataSources": [
        {
          "sourceId": 8554011,
          "sourceType": "datasetVersion",
          "datasetId": 5111850
        }
      ],
      "dockerImageVersionId": 30699,
      "isInternetEnabled": true,
      "language": "python",
      "sourceType": "notebook",
      "isGpuEnabled": false
    },
    "colab": {
      "provenance": []
    }
  },
  "nbformat_minor": 0,
  "nbformat": 4,
  "cells": [
    {
      "cell_type": "markdown",
      "source": [
        "# Code of the Model"
      ],
      "metadata": {
        "id": "q2F26URWOOsn"
      }
    },
    {
      "cell_type": "markdown",
      "source": [
        " ## Importing the necessary libraries"
      ],
      "metadata": {
        "id": "eVtKb1pKOOsp"
      }
    },
    {
      "cell_type": "code",
      "source": [
        "import torch\n",
        "import torch.nn as nn\n",
        "import torch.optim as optim\n",
        "from torchvision import datasets, models, transforms\n",
        "from torch.utils.data import DataLoader, random_split\n",
        "from sklearn.metrics import precision_score, recall_score, f1_score\n",
        "from tqdm import tqdm\n",
        "import warnings\n",
        "\n",
        "# Suppressing warnings\n",
        "warnings.filterwarnings(\"ignore\")\n",
        "\n",
        "# Setting the device\n",
        "device = torch.device(\"cuda:0\" if torch.cuda.is_available() else \"cpu\")\n"
      ],
      "metadata": {
        "_uuid": "8f2839f25d086af736a60e9eeb907d3b93b6e0e5",
        "_cell_guid": "b1076dfc-b9ad-4769-8c92-a6c4dae69d19",
        "execution": {
          "iopub.status.busy": "2024-05-30T00:58:42.153322Z",
          "iopub.execute_input": "2024-05-30T00:58:42.153694Z",
          "iopub.status.idle": "2024-05-30T00:58:42.871762Z",
          "shell.execute_reply.started": "2024-05-30T00:58:42.153659Z",
          "shell.execute_reply": "2024-05-30T00:58:42.870773Z"
        },
        "trusted": true,
        "id": "r6tg5LeROOsq"
      },
      "execution_count": null,
      "outputs": []
    },
    {
      "cell_type": "markdown",
      "source": [
        "## Data Transformations"
      ],
      "metadata": {
        "id": "QRkXapAXOOsr"
      }
    },
    {
      "cell_type": "code",
      "source": [
        "# Defining data transforms\n",
        "data_transforms = {\n",
        "    'train': transforms.Compose([\n",
        "        transforms.RandomResizedCrop(224),\n",
        "        transforms.RandomHorizontalFlip(),\n",
        "        transforms.ToTensor(),\n",
        "        transforms.Normalize([0.485, 0.456, 0.406], [0.229, 0.224, 0.225])\n",
        "    ]),\n",
        "    'val': transforms.Compose([\n",
        "        transforms.Resize(256),\n",
        "        transforms.CenterCrop(224),\n",
        "        transforms.ToTensor(),\n",
        "        transforms.Normalize([0.485, 0.456, 0.406], [0.229, 0.224, 0.225])\n",
        "    ]),\n",
        "}\n",
        "\n",
        "# Loading the dataset with train transforms\n",
        "data_dir = '/content/drive/MyDrive/Plant_leave_diseases_dataset_with_augmentation'\n",
        "dataset = datasets.ImageFolder(data_dir, transform=data_transforms['train'])\n",
        "\n",
        "# Calculating dataset sizes and spliting it into train set and validation set\n",
        "train_size = int(0.8 * len(dataset))\n",
        "val_size = len(dataset) - train_size\n",
        "\n",
        "# Split dataset\n",
        "train_dataset, val_dataset = random_split(dataset, [train_size, val_size])\n",
        "\n",
        "# Apply validation transformation to the validation dataset\n",
        "val_dataset.dataset.transform = data_transforms['val']\n"
      ],
      "metadata": {
        "execution": {
          "iopub.status.busy": "2024-05-30T00:58:42.873572Z",
          "iopub.execute_input": "2024-05-30T00:58:42.873869Z",
          "iopub.status.idle": "2024-05-30T00:58:51.282015Z",
          "shell.execute_reply.started": "2024-05-30T00:58:42.873842Z",
          "shell.execute_reply": "2024-05-30T00:58:51.281168Z"
        },
        "trusted": true,
        "id": "bB-ChtbAOOsr"
      },
      "execution_count": null,
      "outputs": []
    },
    {
      "cell_type": "markdown",
      "source": [
        "## Dataset Loaders"
      ],
      "metadata": {
        "id": "Ne2_WTNoOOss"
      }
    },
    {
      "cell_type": "code",
      "source": [
        "# Creating the data loaders of batch size 64\n",
        "batch_size = 64\n",
        "train_loader = DataLoader(train_dataset, batch_size=batch_size, shuffle=True, num_workers=4)\n",
        "val_loader = DataLoader(val_dataset, batch_size=batch_size, shuffle=False, num_workers=4)"
      ],
      "metadata": {
        "execution": {
          "iopub.status.busy": "2024-05-30T00:58:51.283289Z",
          "iopub.execute_input": "2024-05-30T00:58:51.283570Z",
          "iopub.status.idle": "2024-05-30T00:58:51.289237Z",
          "shell.execute_reply.started": "2024-05-30T00:58:51.283545Z",
          "shell.execute_reply": "2024-05-30T00:58:51.288124Z"
        },
        "trusted": true,
        "id": "8afXozETOOss"
      },
      "execution_count": null,
      "outputs": []
    },
    {
      "cell_type": "markdown",
      "source": [
        "## Loading and Fine-Tuning the Model"
      ],
      "metadata": {
        "id": "48gJh-t5OOss"
      }
    },
    {
      "cell_type": "code",
      "source": [
        "# Loading pre-trained ResNet50 model\n",
        "model = models.resnet50(pretrained=True)\n",
        "\n",
        "# Freezing all layers,here we will only train the final layers\n",
        "for param in model.parameters():\n",
        "    param.requires_grad = False\n",
        "\n",
        "# Finetuning the final fully connected layer\n",
        "num_ftrs = model.fc.in_features\n",
        "model.fc = nn.Linear(num_ftrs, 39)\n",
        "\n",
        "# Moving model to the selected device\n",
        "model = model.to(device)\n",
        "\n",
        "# Defining the loss function and optimizer for training\n",
        "criterion = nn.CrossEntropyLoss()\n",
        "optimizer = optim.Adam(model.fc.parameters(), lr=0.0001)\n"
      ],
      "metadata": {
        "execution": {
          "iopub.status.busy": "2024-05-30T00:58:51.291531Z",
          "iopub.execute_input": "2024-05-30T00:58:51.291894Z",
          "iopub.status.idle": "2024-05-30T00:58:51.876372Z",
          "shell.execute_reply.started": "2024-05-30T00:58:51.291862Z",
          "shell.execute_reply": "2024-05-30T00:58:51.875439Z"
        },
        "trusted": true,
        "id": "n75_qyp_OOss"
      },
      "execution_count": null,
      "outputs": []
    },
    {
      "cell_type": "markdown",
      "source": [
        "## Training Loop"
      ],
      "metadata": {
        "id": "nQDfZr9DOOst"
      }
    },
    {
      "cell_type": "code",
      "source": [
        "# Training the model\n",
        "num_epochs = 10\n",
        "\n",
        "for epoch in range(num_epochs):\n",
        "    print(f'Epoch {epoch+1}/{num_epochs}')\n",
        "    print('-' * 10)\n",
        "\n",
        "    # Setting model to training mode\n",
        "    model.train()\n",
        "\n",
        "    running_loss = 0.0\n",
        "    running_corrects = 0\n",
        "\n",
        "    # Iterating over training data\n",
        "    for inputs, labels in tqdm(train_loader, desc=\"Train Phase\"):\n",
        "        inputs = inputs.to(device)\n",
        "        labels = labels.to(device)\n",
        "\n",
        "        # Setting the Gradients to zero\n",
        "        optimizer.zero_grad()\n",
        "\n",
        "        # Forward pass of the model\n",
        "        outputs = model(inputs)\n",
        "        _, preds = torch.max(outputs, 1)\n",
        "        loss = criterion(outputs, labels)\n",
        "\n",
        "        # Backward pass of the model\n",
        "        loss.backward()\n",
        "        optimizer.step()\n",
        "\n",
        "        # Calculating the data\n",
        "        running_loss += loss.item() * inputs.size(0)\n",
        "        running_corrects += torch.sum(preds == labels.data)\n",
        "\n",
        "    epoch_loss = running_loss / len(train_loader.dataset)\n",
        "    epoch_acc = running_corrects.double() / len(train_loader.dataset)\n",
        "\n",
        "    print(f'Train Loss: {epoch_loss:.4f} Acc: {epoch_acc:.4f}')\n",
        "    print()\n",
        "\n",
        "\n",
        "    print()\n",
        "\n",
        "# Saving the trained model\n",
        "torch.save(model, '/content/drive/MyDrive/plant_disease_classification.pth')\n"
      ],
      "metadata": {
        "execution": {
          "iopub.status.busy": "2024-05-30T00:58:51.877642Z",
          "iopub.execute_input": "2024-05-30T00:58:51.877943Z",
          "iopub.status.idle": "2024-05-30T01:25:46.789247Z",
          "shell.execute_reply.started": "2024-05-30T00:58:51.877917Z",
          "shell.execute_reply": "2024-05-30T01:25:46.788105Z"
        },
        "trusted": true,
        "id": "OG9LS21COOst",
        "outputId": "b9000ce5-b17b-40ba-e6a9-b50810adc322"
      },
      "execution_count": null,
      "outputs": [
        {
          "name": "stdout",
          "text": "Epoch 1/10\n----------\n",
          "output_type": "stream"
        },
        {
          "name": "stderr",
          "text": "Train Phase: 100%|██████████| 769/769 [02:41<00:00,  4.76it/s]\n",
          "output_type": "stream"
        },
        {
          "name": "stdout",
          "text": "Train Loss: 1.6314 Acc: 0.6857\n\n\nEpoch 2/10\n----------\n",
          "output_type": "stream"
        },
        {
          "name": "stderr",
          "text": "Train Phase: 100%|██████████| 769/769 [02:41<00:00,  4.76it/s]\n",
          "output_type": "stream"
        },
        {
          "name": "stdout",
          "text": "Train Loss: 0.6038 Acc: 0.9052\n\n\nEpoch 3/10\n----------\n",
          "output_type": "stream"
        },
        {
          "name": "stderr",
          "text": "Train Phase: 100%|██████████| 769/769 [02:41<00:00,  4.76it/s]\n",
          "output_type": "stream"
        },
        {
          "name": "stdout",
          "text": "Train Loss: 0.4025 Acc: 0.9255\n\n\nEpoch 4/10\n----------\n",
          "output_type": "stream"
        },
        {
          "name": "stderr",
          "text": "Train Phase: 100%|██████████| 769/769 [02:41<00:00,  4.76it/s]\n",
          "output_type": "stream"
        },
        {
          "name": "stdout",
          "text": "Train Loss: 0.3151 Acc: 0.9360\n\n\nEpoch 5/10\n----------\n",
          "output_type": "stream"
        },
        {
          "name": "stderr",
          "text": "Train Phase: 100%|██████████| 769/769 [02:41<00:00,  4.76it/s]\n",
          "output_type": "stream"
        },
        {
          "name": "stdout",
          "text": "Train Loss: 0.2635 Acc: 0.9434\n\n\nEpoch 6/10\n----------\n",
          "output_type": "stream"
        },
        {
          "name": "stderr",
          "text": "Train Phase: 100%|██████████| 769/769 [02:41<00:00,  4.76it/s]\n",
          "output_type": "stream"
        },
        {
          "name": "stdout",
          "text": "Train Loss: 0.2307 Acc: 0.9489\n\n\nEpoch 7/10\n----------\n",
          "output_type": "stream"
        },
        {
          "name": "stderr",
          "text": "Train Phase: 100%|██████████| 769/769 [02:41<00:00,  4.77it/s]\n",
          "output_type": "stream"
        },
        {
          "name": "stdout",
          "text": "Train Loss: 0.2074 Acc: 0.9511\n\n\nEpoch 8/10\n----------\n",
          "output_type": "stream"
        },
        {
          "name": "stderr",
          "text": "Train Phase: 100%|██████████| 769/769 [02:41<00:00,  4.77it/s]\n",
          "output_type": "stream"
        },
        {
          "name": "stdout",
          "text": "Train Loss: 0.1875 Acc: 0.9555\n\n\nEpoch 9/10\n----------\n",
          "output_type": "stream"
        },
        {
          "name": "stderr",
          "text": "Train Phase: 100%|██████████| 769/769 [02:41<00:00,  4.76it/s]\n",
          "output_type": "stream"
        },
        {
          "name": "stdout",
          "text": "Train Loss: 0.1736 Acc: 0.9586\n\n\nEpoch 10/10\n----------\n",
          "output_type": "stream"
        },
        {
          "name": "stderr",
          "text": "Train Phase: 100%|██████████| 769/769 [02:41<00:00,  4.77it/s]\n",
          "output_type": "stream"
        },
        {
          "name": "stdout",
          "text": "Train Loss: 0.1613 Acc: 0.9595\n\n\n",
          "output_type": "stream"
        }
      ]
    },
    {
      "cell_type": "markdown",
      "source": [
        "## Testing Loop"
      ],
      "metadata": {
        "id": "PxvcSB50OOsv"
      }
    },
    {
      "cell_type": "code",
      "source": [
        "# Testing the model\n",
        "model.eval()\n",
        "val_loss = 0.0\n",
        "val_corrects = 0\n",
        "\n",
        "all_labels = []\n",
        "all_preds = []\n",
        "\n",
        "with torch.no_grad():\n",
        "    # Iteration over the validation set\n",
        "    for inputs, labels in tqdm(val_loader, desc=\"Validation Phase\"):\n",
        "        inputs = inputs.to(device)\n",
        "        labels = labels.to(device)\n",
        "\n",
        "        # Getting Predictions from the model\n",
        "        outputs = model(inputs)\n",
        "        _, preds = torch.max(outputs, 1)\n",
        "        loss = criterion(outputs, labels)\n",
        "\n",
        "        val_loss += loss.item() * inputs.size(0)\n",
        "        val_corrects += torch.sum(preds == labels.data)\n",
        "\n",
        "        all_labels.extend(labels.cpu().numpy())\n",
        "        all_preds.extend(preds.cpu().numpy())\n",
        "\n",
        "# Calculation of performance metrics\n",
        "val_loss = val_loss / len(val_loader.dataset)\n",
        "val_acc = val_corrects.double() / len(val_loader.dataset)\n",
        "\n",
        "precision = precision_score(all_labels, all_preds, average='weighted')\n",
        "recall = recall_score(all_labels, all_preds, average='weighted')\n",
        "f1 = f1_score(all_labels, all_preds, average='weighted')\n",
        "\n",
        "print(f'Validation Loss: {val_loss:.4f} Acc: {val_acc:.4f}')\n",
        "print(f'Precision: {precision:.4f}')\n",
        "print(f'Recall: {recall:.4f}')\n",
        "print(f'F1 Score: {f1:.4f}')\n"
      ],
      "metadata": {
        "execution": {
          "iopub.status.busy": "2024-05-30T01:25:46.792363Z",
          "iopub.execute_input": "2024-05-30T01:25:46.793320Z",
          "iopub.status.idle": "2024-05-30T01:26:25.135469Z",
          "shell.execute_reply.started": "2024-05-30T01:25:46.793281Z",
          "shell.execute_reply": "2024-05-30T01:26:25.134364Z"
        },
        "trusted": true,
        "id": "G2op4zX3OOsv",
        "outputId": "7206d1e1-e7c6-4df2-92f2-00f46bdc58c9"
      },
      "execution_count": null,
      "outputs": [
        {
          "name": "stderr",
          "text": "Validation Phase: 100%|██████████| 193/193 [00:38<00:00,  5.04it/s]",
          "output_type": "stream"
        },
        {
          "name": "stdout",
          "text": "Validation Loss: 0.1518 Acc: 0.9583\nPrecision: 0.9585\nRecall: 0.9583\nF1 Score: 0.9582\n",
          "output_type": "stream"
        },
        {
          "name": "stderr",
          "text": "\n",
          "output_type": "stream"
        }
      ]
    },
    {
      "cell_type": "markdown",
      "source": [],
      "metadata": {
        "id": "P7TisZh7d8KK"
      }
    },
    {
      "cell_type": "markdown",
      "source": [],
      "metadata": {
        "id": "0OHRu3KAd8d9"
      }
    },
    {
      "cell_type": "markdown",
      "source": [
        "# Appendix\n",
        "\n",
        "- Link of the Dataset\n",
        "- Link of the Google Drive containing demo:\n",
        "-Notebook link\n",
        "-Model link\n"
      ],
      "metadata": {
        "id": "_qw0PrKCOOsw"
      }
    },
    {
      "cell_type": "markdown",
      "source": [
        "https://drive.google.com/file/d/1vMYnrpcmIK2t3HcaLnooKdkKJ78ydyAs/view?usp=sharing"
      ],
      "metadata": {
        "id": "2Ae-lCjgd9dq"
      }
    },
    {
      "cell_type": "markdown",
      "source": [
        "https://colab.research.google.com/drive/1M3lbu0tWgDyaK945pY9qYcvYp4_50Ro8?usp=sharing\n"
      ],
      "metadata": {
        "id": "K2Tw6ARVbFHM"
      }
    },
    {
      "cell_type": "markdown",
      "source": [
        "https://drive.google.com/file/d/16XW9e9WZoPQBVB7p6V9ZxXPjGPcU1LNz/view?usp=sharing\n"
      ],
      "metadata": {
        "id": "tRPbCNQla68M"
      }
    },
    {
      "cell_type": "markdown",
      "source": [
        "https://data.mendeley.com/datasets/tywbtsjrjv/1"
      ],
      "metadata": {
        "id": "p3uT5_YdT7aK"
      }
    }
  ]
}